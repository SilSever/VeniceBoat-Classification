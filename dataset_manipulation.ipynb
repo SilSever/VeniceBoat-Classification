{
  "nbformat": 4,
  "nbformat_minor": 0,
  "metadata": {
    "colab": {
      "name": "dataset_manipulation.ipynb",
      "version": "0.3.2",
      "provenance": []
    },
    "kernelspec": {
      "name": "python3",
      "display_name": "Python 3"
    }
  },
  "cells": [
    {
      "metadata": {
        "id": "sfIV7HvHiZO1",
        "colab_type": "text"
      },
      "cell_type": "markdown",
      "source": [
        "# Scripts to manipulate dataset"
      ]
    },
    {
      "metadata": {
        "id": "c7YEP5-biNXN",
        "colab_type": "code",
        "colab": {}
      },
      "cell_type": "code",
      "source": [
        "import shutil\n",
        "import os"
      ],
      "execution_count": 0,
      "outputs": []
    },
    {
      "metadata": {
        "id": "tNwjTMBgimxH",
        "colab_type": "code",
        "colab": {}
      },
      "cell_type": "code",
      "source": [
        "def split_test_into_subfolders(path):\n",
        "    \n",
        "    dest = 'sc5-Test-tensorflow'\n",
        "    if not os.path.exists(dest):\n",
        "        os.makedirs(dest)\n",
        "    \n",
        "    with open(path) as file:\n",
        "        \n",
        "        for line in file:\n",
        "            file_name, class_name = line.split(';')\n",
        "            class_name = class_name.replace('\\n','')\n",
        "            \n",
        "            subdest = dest + '/' + class_name\n",
        "            if not os.path.exists(subdest):\n",
        "                os.makedirs(subdest)\n",
        "            shutil.copy('sc5-Test/'+file_name, subdest)\n",
        "            \n",
        "        file.close()"
      ],
      "execution_count": 0,
      "outputs": []
    },
    {
      "metadata": {
        "id": "eTU65KwjitBe",
        "colab_type": "code",
        "colab": {}
      },
      "cell_type": "code",
      "source": [
        "def split_test_into_family_class(path):\n",
        "    \n",
        "    dest = 'sc5-test-tensorflow'\n",
        "    start = 'sc5-Test-tensorflow-tmp'\n",
        "    if not os.path.exists(dest):\n",
        "        os.makedirs(dest)\n",
        "        \n",
        "    with open(path) as file:\n",
        "        \n",
        "        for line in file:\n",
        "            file_name, class_name = line.split(';')\n",
        "            class_name = class_name.replace('\\n','')\n",
        "            \n",
        "            if os.path.exists(start+'/'+file_name):\n",
        "                subdest = dest + '/' + class_name\n",
        "                \n",
        "                if not os.path.exists(subdest):\n",
        "                    os.makedirs(subdest)\n",
        "                shutil.move(start+'/'+file_name,subdest)\n",
        "        file.close()  "
      ],
      "execution_count": 0,
      "outputs": []
    },
    {
      "metadata": {
        "id": "CkPGhWd8ivNx",
        "colab_type": "code",
        "colab": {}
      },
      "cell_type": "code",
      "source": [
        "def split_into_family_class(path):\n",
        "    \n",
        "    dest = 'sc5-tensorflow'\n",
        "    if not os.path.exists(dest):\n",
        "        os.makedirs(dest)\n",
        "        \n",
        "    with open(path) as file:\n",
        "        \n",
        "        for line in file:\n",
        "            file_name, class_name = line.split(';')\n",
        "            class_name = class_name.replace('\\n','')\n",
        "            \n",
        "            if os.path.exists('sc5/'+file_name):\n",
        "                subdest = dest + '/' + class_name\n",
        "                \n",
        "                if not os.path.exists(subdest):\n",
        "                    os.makedirs(subdest)\n",
        "                shutil.move('sc5/'+file_name,subdest)\n",
        "        file.close()  "
      ],
      "execution_count": 0,
      "outputs": []
    },
    {
      "metadata": {
        "id": "QqLD-bEOix_i",
        "colab_type": "code",
        "colab": {}
      },
      "cell_type": "code",
      "source": [
        "def balance_train_and_test(source_train, source_test):\n",
        "    \n",
        "    for family in os.listdir(source_train):\n",
        "        \n",
        "        for classes in os.listdir(source_train+'/'+family):\n",
        "            \n",
        "            subfolder_train = source_train + '/' + family + '/' + classes\n",
        "            subfolder_test = source_test + '/' + family + '/' + classes\n",
        "            \n",
        "            if not os.path.exists(subfolder_test):\n",
        "                print(classes)\n",
        "                os.mkdir(subfolder_test)\n",
        "                pics_to_move = int(0.2*len(os.listdir(source_train + '/' + family + '/' + classes)))\n",
        "                images = os.listdir(subfolder_train)\n",
        "                \n",
        "                for i in range(pics_to_move):\n",
        "                    image = subfolder_train + '/' + images[i]\n",
        "                    shutil.move(image, subfolder_test)"
      ],
      "execution_count": 0,
      "outputs": []
    },
    {
      "metadata": {
        "id": "l2QTF4NDi2wo",
        "colab_type": "code",
        "colab": {}
      },
      "cell_type": "code",
      "source": [
        "balance_train_and_test('sc5-tensorflow','sc5-test-tensorflow')\n",
        "split_into_subfolders('sc5-Test/ground_truth.txt')\n",
        "split_into_family_class('sc5/ground-truth-family.txt')\n",
        "split_test_into_family_class('sc5-Test/ground-truth-family.txt')"
      ],
      "execution_count": 0,
      "outputs": []
    }
  ]
}
